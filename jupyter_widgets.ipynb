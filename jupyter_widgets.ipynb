{
 "cells": [
  {
   "cell_type": "code",
   "execution_count": null,
   "metadata": {},
   "outputs": [],
   "source": [
    "#https://towardsdatascience.com/interactive-controls-for-jupyter-notebooks-f5c94829aee6\n",
    "#https://ipywidgets.readthedocs.io/en/stable/examples/Using%20Interact.html\n",
    "#https://plot.ly/python/figurewidget-app/\n",
    "#https://towardsdatascience.com/bring-your-jupyter-notebook-to-life-with-interactive-widgets-bc12e03f0916"
   ]
  },
  {
   "cell_type": "code",
   "execution_count": 22,
   "metadata": {},
   "outputs": [],
   "source": [
    "import plotly.graph_objects as go\n",
    "import plotly.express as px\n",
    "import pandas as pd\n",
    "from ipywidgets import widgets\n",
    "from ipywidgets import interact, interact_manual\n",
    "from IPython.display import display,clear_output\n"
   ]
  },
  {
   "cell_type": "code",
   "execution_count": 2,
   "metadata": {},
   "outputs": [],
   "source": [
    "df = pd.read_csv(\n",
    "    'https://raw.githubusercontent.com/yankev/testing/master/datasets/nycflights.csv')\n",
    "df = df.drop(df.columns[[0]], axis=1)"
   ]
  },
  {
   "cell_type": "code",
   "execution_count": 43,
   "metadata": {
    "scrolled": true
   },
   "outputs": [],
   "source": [
    "def data_viz_wrapper(dataframe, sample = 1000):\n",
    "    \"\"\"\n",
    "    \"\"\"\n",
    "    #Get sample from dataframe\n",
    "    dataframe = dataframe.sample(sample)\n",
    "    \n",
    "    #Check Data Types\n",
    "    dimensions = [None]\n",
    "    measures = []\n",
    "    for i in dataframe.columns:\n",
    "        if dataframe[i].dtypes == 'float64' or dataframe[i].dtypes == 'int64':\n",
    "            measures.append(i)\n",
    "        else:\n",
    "            dimensions.append(i)\n",
    "                \n",
    "    #Get Plot Types\n",
    "    plot_types = ['Box','Bar','Line','Scatter','Scatter Matrix','Violin']\n",
    "    \n",
    "    \n",
    "    title_widget = widgets.Text(\n",
    "        value='',\n",
    "        placeholder='Insert Title Here',\n",
    "        description=\"This will be the Chart's Title\",\n",
    "        disabled=False\n",
    "    )\n",
    "    container = widgets.HBox(children=[title_widget])\n",
    "\n",
    "    #display(container)\n",
    "    \n",
    "    #Generate Interactivity\n",
    "    @interact_manual\n",
    "    def data_viz(plot_type = plot_types):\n",
    "        \"\"\"\n",
    "        \"\"\"\n",
    "        #Check for Data Types\n",
    "        if plot_type=='Scatter':\n",
    "            @interact\n",
    "            def scatter_plot(x=list(dataframe.columns), \n",
    "                             y=list(dataframe.columns),\n",
    "                             color = [None]+list(dataframe.columns),\n",
    "                             facet_row = [None]+list(dataframe.columns),\n",
    "                             facet_col = [None]+list(dataframe.columns)):\n",
    "                try:\n",
    "                    return px.scatter(data_frame = dataframe,\n",
    "                                      x=x,\n",
    "                                      y=y,\n",
    "                                      color=color,\n",
    "                                      facet_row=facet_row,\n",
    "                                      facet_col=facet_col)\n",
    "                except Exception as e:\n",
    "                    pass\n",
    "                    print(\"Error please check dataframe and select a different column, press 'Run Interact' to continue\")\n",
    "                    print(e)\n",
    "        elif plot_type == 'Box':    \n",
    "            @interact\n",
    "            def box_plot(x=list(dataframe.columns), \n",
    "                             y=list(dataframe.columns),\n",
    "                             color = [None]+list(dataframe.columns),\n",
    "                             facet_row = [None]+list(dataframe.columns),\n",
    "                             facet_col = [None]+list(dataframe.columns)):\n",
    "                try:\n",
    "                    return px.box(data_frame = dataframe,\n",
    "                                      x=x,\n",
    "                                      y=y,\n",
    "                                      color=color,\n",
    "                                      facet_row=facet_row,\n",
    "                                      facet_col=facet_col)\n",
    "                except Exception as e:\n",
    "                    pass\n",
    "                    print(\"Error please check dataframe and select a different column, press 'Run Interact' to continue\")\n",
    "                    print(e)\n",
    "                    \n",
    "        elif plot_type == 'Bar':\n",
    "            @interact\n",
    "            def bar_plot(x=list(dataframe.columns), \n",
    "                             y=list(dataframe.columns),\n",
    "                             color = [None]+list(dataframe.columns),\n",
    "                             facet_row = [None]+list(dataframe.columns),\n",
    "                             facet_col = [None]+list(dataframe.columns)):\n",
    "                try:\n",
    "                    return px.bar(data_frame = dataframe,\n",
    "                                      x=x,\n",
    "                                      y=y,\n",
    "                                      color=color,\n",
    "                                      facet_row=facet_row,\n",
    "                                      facet_col=facet_col)\n",
    "                except Exception as e:\n",
    "                    pass\n",
    "                    print(\"Error please check dataframe and select a different column, press 'Run Interact' to continue\")\n",
    "                    print(e)\n",
    "        elif plot_type == 'Line':\n",
    "            @interact\n",
    "            def line_plot(x=list(dataframe.columns), \n",
    "                             y=list(dataframe.columns),\n",
    "                             color = [None]+list(dataframe.columns),\n",
    "                             facet_row = [None]+list(dataframe.columns),\n",
    "                             facet_col = [None]+list(dataframe.columns)):\n",
    "                try:\n",
    "                    return px.line(data_frame = dataframe,\n",
    "                                      x=x,\n",
    "                                      y=y,\n",
    "                                      color=color,\n",
    "                                      facet_row=facet_row,\n",
    "                                      facet_col=facet_col)\n",
    "                except Exception as e:\n",
    "                    pass\n",
    "                    print(\"Error please check dataframe and select a different column, press 'Run Interact' to continue\")\n",
    "                    print(e)\n",
    "        elif plot_type == 'Violin':\n",
    "            @interact\n",
    "            def line_plot(x=list(dataframe.columns), \n",
    "                             y=list(dataframe.columns),\n",
    "                             color = [None]+list(dataframe.columns),\n",
    "                             facet_row = [None]+list(dataframe.columns),\n",
    "                             facet_col = [None]+list(dataframe.columns)):\n",
    "                try:\n",
    "                    return px.violin(data_frame = dataframe,\n",
    "                                      x=x,\n",
    "                                      y=y,\n",
    "                                      color=color,\n",
    "                                      facet_row=facet_row,\n",
    "                                      facet_col=facet_col)\n",
    "                except Exception as e:\n",
    "                    pass\n",
    "                    print(\"Error please check dataframe and select a different column, press 'Run Interact' to continue\")\n",
    "                    print(e)\n",
    "        \n",
    "    #Get Response Changes\n",
    "#     def response(change):\n",
    "#         clear_output(wait=True)\n",
    "#         display(widgets.VBox([container]))\n",
    "#         return interact(data_viz,plot_type = plot_types)\n",
    "    \n",
    "#     title_widget.observe(response, names=\"value\")\n",
    "    \n",
    "    \n",
    "#     return widgets.VBox([container])\n",
    "                            "
   ]
  },
  {
   "cell_type": "code",
   "execution_count": 44,
   "metadata": {},
   "outputs": [
    {
     "data": {
      "application/vnd.jupyter.widget-view+json": {
       "model_id": "6d8b8ef6f8a8450bbe42489ef4198bfe",
       "version_major": 2,
       "version_minor": 0
      },
      "text/plain": [
       "interactive(children=(Dropdown(description='plot_type', options=('Box', 'Bar', 'Line', 'Scatter', 'Scatter Mat…"
      ]
     },
     "metadata": {},
     "output_type": "display_data"
    }
   ],
   "source": [
    "data_viz_wrapper(df)"
   ]
  },
  {
   "cell_type": "code",
   "execution_count": null,
   "metadata": {},
   "outputs": [],
   "source": [
    "    "
   ]
  }
 ],
 "metadata": {
  "kernelspec": {
   "display_name": "Python 3",
   "language": "python",
   "name": "python3"
  },
  "language_info": {
   "codemirror_mode": {
    "name": "ipython",
    "version": 3
   },
   "file_extension": ".py",
   "mimetype": "text/x-python",
   "name": "python",
   "nbconvert_exporter": "python",
   "pygments_lexer": "ipython3",
   "version": "3.7.3"
  }
 },
 "nbformat": 4,
 "nbformat_minor": 2
}
